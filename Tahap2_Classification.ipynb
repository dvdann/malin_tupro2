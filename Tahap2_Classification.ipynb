{
  "cells": [
    {
      "cell_type": "code",
      "execution_count": 27,
      "metadata": {
        "id": "bc6b6097"
      },
      "outputs": [],
      "source": [
        "import seaborn as sns\n",
        "import matplotlib.pyplot as plt\n",
        "import pandas as pd\n",
        "import numpy as np"
      ],
      "id": "bc6b6097"
    },
    {
      "cell_type": "code",
      "execution_count": 28,
      "metadata": {
        "id": "d412f5dc"
      },
      "outputs": [],
      "source": [
        "dfTrain = pd.read_csv('/content/sample_data/kendaraan_train.csv')\n",
        "dfTest = pd.read_csv('/content/sample_data/kendaraan_test.csv')"
      ],
      "id": "d412f5dc"
    },
    {
      "cell_type": "code",
      "execution_count": 29,
      "metadata": {
        "id": "a6abbcea",
        "colab": {
          "base_uri": "https://localhost:8080/",
          "height": 270
        },
        "outputId": "27301244-a5ba-4af7-db87-9f8df9990276"
      },
      "outputs": [
        {
          "output_type": "execute_result",
          "data": {
            "text/html": [
              "\n",
              "  <div id=\"df-13a312b6-468d-4d29-bcb6-42dab3660e04\">\n",
              "    <div class=\"colab-df-container\">\n",
              "      <div>\n",
              "<style scoped>\n",
              "    .dataframe tbody tr th:only-of-type {\n",
              "        vertical-align: middle;\n",
              "    }\n",
              "\n",
              "    .dataframe tbody tr th {\n",
              "        vertical-align: top;\n",
              "    }\n",
              "\n",
              "    .dataframe thead th {\n",
              "        text-align: right;\n",
              "    }\n",
              "</style>\n",
              "<table border=\"1\" class=\"dataframe\">\n",
              "  <thead>\n",
              "    <tr style=\"text-align: right;\">\n",
              "      <th></th>\n",
              "      <th>id</th>\n",
              "      <th>Jenis_Kelamin</th>\n",
              "      <th>Umur</th>\n",
              "      <th>SIM</th>\n",
              "      <th>Kode_Daerah</th>\n",
              "      <th>Sudah_Asuransi</th>\n",
              "      <th>Umur_Kendaraan</th>\n",
              "      <th>Kendaraan_Rusak</th>\n",
              "      <th>Premi</th>\n",
              "      <th>Kanal_Penjualan</th>\n",
              "      <th>Lama_Berlangganan</th>\n",
              "      <th>Tertarik</th>\n",
              "    </tr>\n",
              "  </thead>\n",
              "  <tbody>\n",
              "    <tr>\n",
              "      <th>0</th>\n",
              "      <td>1</td>\n",
              "      <td>Wanita</td>\n",
              "      <td>30.0</td>\n",
              "      <td>1.0</td>\n",
              "      <td>33.0</td>\n",
              "      <td>1.0</td>\n",
              "      <td>&lt; 1 Tahun</td>\n",
              "      <td>Tidak</td>\n",
              "      <td>28029.0</td>\n",
              "      <td>152.0</td>\n",
              "      <td>97.0</td>\n",
              "      <td>0</td>\n",
              "    </tr>\n",
              "    <tr>\n",
              "      <th>1</th>\n",
              "      <td>2</td>\n",
              "      <td>Pria</td>\n",
              "      <td>48.0</td>\n",
              "      <td>1.0</td>\n",
              "      <td>39.0</td>\n",
              "      <td>0.0</td>\n",
              "      <td>&gt; 2 Tahun</td>\n",
              "      <td>Pernah</td>\n",
              "      <td>25800.0</td>\n",
              "      <td>29.0</td>\n",
              "      <td>158.0</td>\n",
              "      <td>0</td>\n",
              "    </tr>\n",
              "    <tr>\n",
              "      <th>2</th>\n",
              "      <td>3</td>\n",
              "      <td>NaN</td>\n",
              "      <td>21.0</td>\n",
              "      <td>1.0</td>\n",
              "      <td>46.0</td>\n",
              "      <td>1.0</td>\n",
              "      <td>&lt; 1 Tahun</td>\n",
              "      <td>Tidak</td>\n",
              "      <td>32733.0</td>\n",
              "      <td>160.0</td>\n",
              "      <td>119.0</td>\n",
              "      <td>0</td>\n",
              "    </tr>\n",
              "    <tr>\n",
              "      <th>3</th>\n",
              "      <td>4</td>\n",
              "      <td>Wanita</td>\n",
              "      <td>58.0</td>\n",
              "      <td>1.0</td>\n",
              "      <td>48.0</td>\n",
              "      <td>0.0</td>\n",
              "      <td>1-2 Tahun</td>\n",
              "      <td>Tidak</td>\n",
              "      <td>2630.0</td>\n",
              "      <td>124.0</td>\n",
              "      <td>63.0</td>\n",
              "      <td>0</td>\n",
              "    </tr>\n",
              "    <tr>\n",
              "      <th>4</th>\n",
              "      <td>5</td>\n",
              "      <td>Pria</td>\n",
              "      <td>50.0</td>\n",
              "      <td>1.0</td>\n",
              "      <td>35.0</td>\n",
              "      <td>0.0</td>\n",
              "      <td>&gt; 2 Tahun</td>\n",
              "      <td>NaN</td>\n",
              "      <td>34857.0</td>\n",
              "      <td>88.0</td>\n",
              "      <td>194.0</td>\n",
              "      <td>0</td>\n",
              "    </tr>\n",
              "  </tbody>\n",
              "</table>\n",
              "</div>\n",
              "      <button class=\"colab-df-convert\" onclick=\"convertToInteractive('df-13a312b6-468d-4d29-bcb6-42dab3660e04')\"\n",
              "              title=\"Convert this dataframe to an interactive table.\"\n",
              "              style=\"display:none;\">\n",
              "        \n",
              "  <svg xmlns=\"http://www.w3.org/2000/svg\" height=\"24px\"viewBox=\"0 0 24 24\"\n",
              "       width=\"24px\">\n",
              "    <path d=\"M0 0h24v24H0V0z\" fill=\"none\"/>\n",
              "    <path d=\"M18.56 5.44l.94 2.06.94-2.06 2.06-.94-2.06-.94-.94-2.06-.94 2.06-2.06.94zm-11 1L8.5 8.5l.94-2.06 2.06-.94-2.06-.94L8.5 2.5l-.94 2.06-2.06.94zm10 10l.94 2.06.94-2.06 2.06-.94-2.06-.94-.94-2.06-.94 2.06-2.06.94z\"/><path d=\"M17.41 7.96l-1.37-1.37c-.4-.4-.92-.59-1.43-.59-.52 0-1.04.2-1.43.59L10.3 9.45l-7.72 7.72c-.78.78-.78 2.05 0 2.83L4 21.41c.39.39.9.59 1.41.59.51 0 1.02-.2 1.41-.59l7.78-7.78 2.81-2.81c.8-.78.8-2.07 0-2.86zM5.41 20L4 18.59l7.72-7.72 1.47 1.35L5.41 20z\"/>\n",
              "  </svg>\n",
              "      </button>\n",
              "      \n",
              "  <style>\n",
              "    .colab-df-container {\n",
              "      display:flex;\n",
              "      flex-wrap:wrap;\n",
              "      gap: 12px;\n",
              "    }\n",
              "\n",
              "    .colab-df-convert {\n",
              "      background-color: #E8F0FE;\n",
              "      border: none;\n",
              "      border-radius: 50%;\n",
              "      cursor: pointer;\n",
              "      display: none;\n",
              "      fill: #1967D2;\n",
              "      height: 32px;\n",
              "      padding: 0 0 0 0;\n",
              "      width: 32px;\n",
              "    }\n",
              "\n",
              "    .colab-df-convert:hover {\n",
              "      background-color: #E2EBFA;\n",
              "      box-shadow: 0px 1px 2px rgba(60, 64, 67, 0.3), 0px 1px 3px 1px rgba(60, 64, 67, 0.15);\n",
              "      fill: #174EA6;\n",
              "    }\n",
              "\n",
              "    [theme=dark] .colab-df-convert {\n",
              "      background-color: #3B4455;\n",
              "      fill: #D2E3FC;\n",
              "    }\n",
              "\n",
              "    [theme=dark] .colab-df-convert:hover {\n",
              "      background-color: #434B5C;\n",
              "      box-shadow: 0px 1px 3px 1px rgba(0, 0, 0, 0.15);\n",
              "      filter: drop-shadow(0px 1px 2px rgba(0, 0, 0, 0.3));\n",
              "      fill: #FFFFFF;\n",
              "    }\n",
              "  </style>\n",
              "\n",
              "      <script>\n",
              "        const buttonEl =\n",
              "          document.querySelector('#df-13a312b6-468d-4d29-bcb6-42dab3660e04 button.colab-df-convert');\n",
              "        buttonEl.style.display =\n",
              "          google.colab.kernel.accessAllowed ? 'block' : 'none';\n",
              "\n",
              "        async function convertToInteractive(key) {\n",
              "          const element = document.querySelector('#df-13a312b6-468d-4d29-bcb6-42dab3660e04');\n",
              "          const dataTable =\n",
              "            await google.colab.kernel.invokeFunction('convertToInteractive',\n",
              "                                                     [key], {});\n",
              "          if (!dataTable) return;\n",
              "\n",
              "          const docLinkHtml = 'Like what you see? Visit the ' +\n",
              "            '<a target=\"_blank\" href=https://colab.research.google.com/notebooks/data_table.ipynb>data table notebook</a>'\n",
              "            + ' to learn more about interactive tables.';\n",
              "          element.innerHTML = '';\n",
              "          dataTable['output_type'] = 'display_data';\n",
              "          await google.colab.output.renderOutput(dataTable, element);\n",
              "          const docLink = document.createElement('div');\n",
              "          docLink.innerHTML = docLinkHtml;\n",
              "          element.appendChild(docLink);\n",
              "        }\n",
              "      </script>\n",
              "    </div>\n",
              "  </div>\n",
              "  "
            ],
            "text/plain": [
              "   id Jenis_Kelamin  Umur  ...  Kanal_Penjualan  Lama_Berlangganan  Tertarik\n",
              "0   1        Wanita  30.0  ...            152.0               97.0         0\n",
              "1   2          Pria  48.0  ...             29.0              158.0         0\n",
              "2   3           NaN  21.0  ...            160.0              119.0         0\n",
              "3   4        Wanita  58.0  ...            124.0               63.0         0\n",
              "4   5          Pria  50.0  ...             88.0              194.0         0\n",
              "\n",
              "[5 rows x 12 columns]"
            ]
          },
          "metadata": {},
          "execution_count": 29
        }
      ],
      "source": [
        "dfTrain.head()"
      ],
      "id": "a6abbcea"
    },
    {
      "cell_type": "markdown",
      "metadata": {
        "id": "865551f8"
      },
      "source": [
        "### Poin A"
      ],
      "id": "865551f8"
    },
    {
      "cell_type": "markdown",
      "metadata": {
        "id": "25082478"
      },
      "source": [
        "#### Terdapat data customer pada pembelian kendaraan. Data berisi karakteristik customer yang berkaitan dengan ketertarikan customer untuk membeli kendaraan. Kami diminta untuk melakukan eksplorasi data dan juga membuat model data dengan menggunakan machine learning untuk mengetahui karakteristik customer apakah tertarik atau tidak membeli mobil baru"
      ],
      "id": "25082478"
    },
    {
      "cell_type": "markdown",
      "metadata": {
        "id": "727c1af7"
      },
      "source": [
        "### Poin B\n",
        "### Eksplorasi Data"
      ],
      "id": "727c1af7"
    },
    {
      "cell_type": "markdown",
      "metadata": {
        "id": "f2ab4b44"
      },
      "source": [
        "#### Persentase data jenis kelamin customer"
      ],
      "id": "f2ab4b44"
    },
    {
      "cell_type": "code",
      "execution_count": 30,
      "metadata": {
        "id": "74a42033",
        "scrolled": true,
        "colab": {
          "base_uri": "https://localhost:8080/",
          "height": 248
        },
        "outputId": "bd842df1-c7c4-4bd5-e4f0-268337f3f3a5"
      },
      "outputs": [
        {
          "output_type": "display_data",
          "data": {
            "image/png": "[encoded data removed]",
            "text/plain": [
              "<Figure size 432x288 with 1 Axes>"
            ]
          },
          "metadata": {}
        }
      ],
      "source": [
        "a = round((len(dfTrain[dfTrain['Jenis_Kelamin']=='Pria'])/len(dfTrain))*100,1)\n",
        "b = round((len(dfTrain[dfTrain['Jenis_Kelamin']=='Wanita'])/len(dfTrain))*100,1)\n",
        "c = round((len(dfTrain[(dfTrain['Jenis_Kelamin']!='Pria')&(dfTrain['Jenis_Kelamin']!='Wanita')])/len(dfTrain))*100,1)\n",
        "y = np.array([a,b,c])\n",
        "mylabels = [\"Pria ({}%)\".format(a), \"Wanita ({}%)\".format(b), \"NaN ({}%)\".format(c)]\n",
        "\n",
        "plt.pie(y, labels = mylabels, startangle = 90)\n",
        "\n",
        "plt.show()"
      ],
      "id": "74a42033"
    },
    {
      "cell_type": "code",
      "execution_count": 31,
      "metadata": {
        "id": "afaec48e",
        "colab": {
          "base_uri": "https://localhost:8080/"
        },
        "outputId": "320520e6-53c9-4182-e6c9-429851ea4718"
      },
      "outputs": [
        {
          "output_type": "stream",
          "name": "stdout",
          "text": [
            "Jumlah Wanita yang tertarik beli mobil baru, yaitu 10.3% dari jumlah pembeli wanita\n",
            "Jumlah Pria yang tertarik beli mobil baru, yaitu 13.8% dari jumlah pembeli pria\n"
          ]
        }
      ],
      "source": [
        "TWanita = len(dfTrain[(dfTrain['Tertarik']==1)&(dfTrain['Jenis_Kelamin']=='Wanita')])/len(dfTrain[dfTrain['Jenis_Kelamin']=='Wanita'])\n",
        "print('Jumlah Wanita yang tertarik beli mobil baru, yaitu {}% dari jumlah pembeli wanita'.format(round(TWanita*100,1)))\n",
        "\n",
        "TPria = len(dfTrain[(dfTrain['Tertarik']==1)&(dfTrain['Jenis_Kelamin']=='Pria')])/len(dfTrain[dfTrain['Jenis_Kelamin']=='Pria'])\n",
        "print('Jumlah Pria yang tertarik beli mobil baru, yaitu {}% dari jumlah pembeli pria'.format(round(TPria*100,1)))"
      ],
      "id": "afaec48e"
    },
    {
      "cell_type": "markdown",
      "metadata": {
        "id": "e971a0a0"
      },
      "source": [
        "#### Persentase ketertarikan pembelian menurut umur kendaraan\n",
        "#### Dapat terlihat di bawah ini bahwa umur kendaraan 1-2 tahun yang lebih banyak peminat"
      ],
      "id": "e971a0a0"
    },
    {
      "cell_type": "code",
      "execution_count": 32,
      "metadata": {
        "id": "7b6f6fab",
        "colab": {
          "base_uri": "https://localhost:8080/",
          "height": 248
        },
        "outputId": "1d05bfbb-2dc0-4c80-a993-515ee9a6953f"
      },
      "outputs": [
        {
          "output_type": "display_data",
          "data": {
            "image/png": "[encoded data removed]",
            "text/plain": [
              "<Figure size 432x288 with 1 Axes>"
            ]
          },
          "metadata": {}
        }
      ],
      "source": [
        "a = round((len(dfTrain[(dfTrain['Umur_Kendaraan']=='< 1 Tahun')&(dfTrain['Tertarik']==1)])/len(dfTrain[dfTrain['Tertarik']==1]))*100,2)\n",
        "b = round((len(dfTrain[(dfTrain['Umur_Kendaraan']=='> 2 Tahun')&(dfTrain['Tertarik']==1)])/len(dfTrain[dfTrain['Tertarik']==1]))*100,2)\n",
        "c = round((len(dfTrain[(dfTrain['Umur_Kendaraan']=='1-2 Tahun')&(dfTrain['Tertarik']==1)])/len(dfTrain[dfTrain['Tertarik']==1]))*100,2)\n",
        "d = round((len(dfTrain[(dfTrain['Umur_Kendaraan']!='< 1 Tahun')&(dfTrain['Umur_Kendaraan']!='> 2 Tahun')&(dfTrain['Umur_Kendaraan']!='1-2 Tahun')&(dfTrain['Tertarik']==1)])/len(dfTrain[dfTrain['Tertarik']==1]))*100,2)\n",
        "y = np.array([a,b,c,d])\n",
        "mylabels = [\"< 1 Tahun ({}%)\".format(a), \"> 2 Tahun ({}%)\".format(b), \"1-2 Tahun ({}%)\".format(c), \"NaN ({}%)\".format(d)]\n",
        "\n",
        "plt.pie(y, labels = mylabels, startangle = 90)\n",
        "\n",
        "plt.show()"
      ],
      "id": "7b6f6fab"
    },
    {
      "cell_type": "markdown",
      "metadata": {
        "id": "8f06098d"
      },
      "source": [
        "#### Jumlah null atau nan pada setiap column"
      ],
      "id": "8f06098d"
    },
    {
      "cell_type": "code",
      "execution_count": 33,
      "metadata": {
        "id": "6fa0f6dd",
        "colab": {
          "base_uri": "https://localhost:8080/"
        },
        "outputId": "18d2bd14-f6c5-4e1a-a1de-d173235671f1"
      },
      "outputs": [
        {
          "output_type": "execute_result",
          "data": {
            "text/plain": [
              "id                       0\n",
              "Jenis_Kelamin        14440\n",
              "Umur                 14214\n",
              "SIM                  14404\n",
              "Kode_Daerah          14306\n",
              "Sudah_Asuransi       14229\n",
              "Umur_Kendaraan       14275\n",
              "Kendaraan_Rusak      14188\n",
              "Premi                14569\n",
              "Kanal_Penjualan      14299\n",
              "Lama_Berlangganan    13992\n",
              "Tertarik                 0\n",
              "dtype: int64"
            ]
          },
          "metadata": {},
          "execution_count": 33
        }
      ],
      "source": [
        "dfTrain.isnull().sum()"
      ],
      "id": "6fa0f6dd"
    },
    {
      "cell_type": "markdown",
      "metadata": {
        "id": "b92dd662"
      },
      "source": [
        "#### Dari hasil eksplorasi data di atas, dapat dilihat bahwa ada banyak data NaN pada setiap column. Oleh karena itu kita akan melakukan data cleaning"
      ],
      "id": "b92dd662"
    },
    {
      "cell_type": "markdown",
      "metadata": {
        "id": "a14bb55f"
      },
      "source": [
        "### Data Cleaning & Preparation"
      ],
      "id": "a14bb55f"
    },
    {
      "cell_type": "code",
      "execution_count": 34,
      "metadata": {
        "id": "b70aa581"
      },
      "outputs": [],
      "source": [
        "# Melakukan standarisasi data, agar nilai antar column tidak jauh berbeda\n",
        "dfTrain['Premi'] = dfTrain['Premi']/10000\n",
        "dfTrain['Kanal_Penjualan'] = dfTrain['Kanal_Penjualan']/10\n",
        "dfTrain['Lama_Berlangganan'] = dfTrain['Lama_Berlangganan']/10\n",
        "\n",
        "dfTest['Premi'] = dfTest['Premi']/10000\n",
        "dfTest['Kanal_Penjualan'] = dfTest['Kanal_Penjualan']/10\n",
        "dfTest['Lama_Berlangganan'] = dfTest['Lama_Berlangganan']/10\n",
        "\n",
        "# Menghapus row pada column-column selain Premi yang mempunya nilai Nan\n",
        "a = dfTrain[dfTrain['Jenis_Kelamin'].notnull()]\n",
        "b = a[a['Umur'].notnull()]\n",
        "c = b[b['SIM'].notnull()]\n",
        "d = c[c['Kode_Daerah'].notnull()]\n",
        "e = d[d['Sudah_Asuransi'].notnull()]\n",
        "f = e[e['Umur_Kendaraan'].notnull()]\n",
        "g = f[f['Kendaraan_Rusak'].notnull()]\n",
        "h = g[g['Kanal_Penjualan'].notnull()]\n",
        "dfNew = h[h['Lama_Berlangganan'].notnull()]\n",
        "\n",
        "# Mengisi nilai NaN pada coolumn Premi dengan rata-rata nilai Premi\n",
        "dfNew = dfNew.fillna(dfNew['Premi'].mean())"
      ],
      "id": "b70aa581"
    },
    {
      "cell_type": "markdown",
      "metadata": {
        "id": "d84aba10"
      },
      "source": [
        "#### Mengubah Semua string menjadi numerik agar dapat diolah ke dalam model"
      ],
      "id": "d84aba10"
    },
    {
      "cell_type": "code",
      "execution_count": 35,
      "metadata": {
        "id": "b1a8e644"
      },
      "outputs": [],
      "source": [
        "dfNew.loc[dfNew['Umur_Kendaraan']=='< 1 Tahun', 'Umur_Kendaraan'] = 1\n",
        "dfNew.loc[dfNew['Umur_Kendaraan']=='> 2 Tahun', 'Umur_Kendaraan'] = 2\n",
        "dfNew.loc[dfNew['Umur_Kendaraan']=='1-2 Tahun', 'Umur_Kendaraan'] = 3\n",
        "\n",
        "dfNew.loc[dfNew['Kendaraan_Rusak']=='Pernah', 'Kendaraan_Rusak'] = 1\n",
        "dfNew.loc[dfNew['Kendaraan_Rusak']=='Tidak', 'Kendaraan_Rusak'] = 0\n",
        "\n",
        "dfNew.loc[dfNew['Jenis_Kelamin']=='Pria', 'Jenis_Kelamin'] = 1\n",
        "dfNew.loc[dfNew['Jenis_Kelamin']=='Wanita', 'Jenis_Kelamin'] = 0\n",
        "\n",
        "del dfNew['id']\n",
        "\n",
        "dfNew = dfNew.astype(float)\n",
        "dfNew = dfNew.reset_index(drop=True)"
      ],
      "id": "b1a8e644"
    },
    {
      "cell_type": "code",
      "execution_count": 36,
      "metadata": {
        "id": "6a8155ff"
      },
      "outputs": [],
      "source": [
        "dfTest.loc[dfTest['Umur_Kendaraan']=='< 1 Tahun', 'Umur_Kendaraan'] = 1\n",
        "dfTest.loc[dfTest['Umur_Kendaraan']=='> 2 Tahun', 'Umur_Kendaraan'] = 2\n",
        "dfTest.loc[dfTest['Umur_Kendaraan']=='1-2 Tahun', 'Umur_Kendaraan'] = 3\n",
        "\n",
        "dfTest.loc[dfTest['Kendaraan_Rusak']=='Pernah', 'Kendaraan_Rusak'] = 1\n",
        "dfTest.loc[dfTest['Kendaraan_Rusak']=='Tidak', 'Kendaraan_Rusak'] = 0\n",
        "\n",
        "dfTest.loc[dfTest['Jenis_Kelamin']=='Pria', 'Jenis_Kelamin'] = 1\n",
        "dfTest.loc[dfTest['Jenis_Kelamin']=='Wanita', 'Jenis_Kelamin'] = 0\n",
        "\n",
        "dfTest = dfTest.astype(float)\n",
        "dfTest = dfTest.reset_index(drop=True)"
      ],
      "id": "6a8155ff"
    },
    {
      "cell_type": "markdown",
      "metadata": {
        "id": "e4c19f1a"
      },
      "source": [
        "#### Hasil akhir data train yang akan digunakan dalam model machine learning"
      ],
      "id": "e4c19f1a"
    },
    {
      "cell_type": "code",
      "execution_count": 37,
      "metadata": {
        "id": "cd003367",
        "colab": {
          "base_uri": "https://localhost:8080/",
          "height": 250
        },
        "outputId": "d93f1690-b3b0-482e-f762-ba85b747a81a"
      },
      "outputs": [
        {
          "output_type": "execute_result",
          "data": {
            "text/html": [
              "\n",
              "  <div id=\"df-c025f9dd-6401-4292-bc78-daab54f85975\">\n",
              "    <div class=\"colab-df-container\">\n",
              "      <div>\n",
              "<style scoped>\n",
              "    .dataframe tbody tr th:only-of-type {\n",
              "        vertical-align: middle;\n",
              "    }\n",
              "\n",
              "    .dataframe tbody tr th {\n",
              "        vertical-align: top;\n",
              "    }\n",
              "\n",
              "    .dataframe thead th {\n",
              "        text-align: right;\n",
              "    }\n",
              "</style>\n",
              "<table border=\"1\" class=\"dataframe\">\n",
              "  <thead>\n",
              "    <tr style=\"text-align: right;\">\n",
              "      <th></th>\n",
              "      <th>Jenis_Kelamin</th>\n",
              "      <th>Umur</th>\n",
              "      <th>SIM</th>\n",
              "      <th>Kode_Daerah</th>\n",
              "      <th>Sudah_Asuransi</th>\n",
              "      <th>Umur_Kendaraan</th>\n",
              "      <th>Kendaraan_Rusak</th>\n",
              "      <th>Premi</th>\n",
              "      <th>Kanal_Penjualan</th>\n",
              "      <th>Lama_Berlangganan</th>\n",
              "      <th>Tertarik</th>\n",
              "    </tr>\n",
              "  </thead>\n",
              "  <tbody>\n",
              "    <tr>\n",
              "      <th>0</th>\n",
              "      <td>0.0</td>\n",
              "      <td>30.0</td>\n",
              "      <td>1.0</td>\n",
              "      <td>33.0</td>\n",
              "      <td>1.0</td>\n",
              "      <td>1.0</td>\n",
              "      <td>0.0</td>\n",
              "      <td>2.8029</td>\n",
              "      <td>15.2</td>\n",
              "      <td>9.7</td>\n",
              "      <td>0.0</td>\n",
              "    </tr>\n",
              "    <tr>\n",
              "      <th>1</th>\n",
              "      <td>1.0</td>\n",
              "      <td>48.0</td>\n",
              "      <td>1.0</td>\n",
              "      <td>39.0</td>\n",
              "      <td>0.0</td>\n",
              "      <td>2.0</td>\n",
              "      <td>1.0</td>\n",
              "      <td>2.5800</td>\n",
              "      <td>2.9</td>\n",
              "      <td>15.8</td>\n",
              "      <td>0.0</td>\n",
              "    </tr>\n",
              "    <tr>\n",
              "      <th>2</th>\n",
              "      <td>0.0</td>\n",
              "      <td>58.0</td>\n",
              "      <td>1.0</td>\n",
              "      <td>48.0</td>\n",
              "      <td>0.0</td>\n",
              "      <td>3.0</td>\n",
              "      <td>0.0</td>\n",
              "      <td>0.2630</td>\n",
              "      <td>12.4</td>\n",
              "      <td>6.3</td>\n",
              "      <td>0.0</td>\n",
              "    </tr>\n",
              "    <tr>\n",
              "      <th>3</th>\n",
              "      <td>1.0</td>\n",
              "      <td>21.0</td>\n",
              "      <td>1.0</td>\n",
              "      <td>35.0</td>\n",
              "      <td>1.0</td>\n",
              "      <td>1.0</td>\n",
              "      <td>0.0</td>\n",
              "      <td>2.2735</td>\n",
              "      <td>15.2</td>\n",
              "      <td>17.1</td>\n",
              "      <td>0.0</td>\n",
              "    </tr>\n",
              "    <tr>\n",
              "      <th>4</th>\n",
              "      <td>0.0</td>\n",
              "      <td>20.0</td>\n",
              "      <td>1.0</td>\n",
              "      <td>8.0</td>\n",
              "      <td>1.0</td>\n",
              "      <td>1.0</td>\n",
              "      <td>0.0</td>\n",
              "      <td>3.0786</td>\n",
              "      <td>16.0</td>\n",
              "      <td>3.1</td>\n",
              "      <td>0.0</td>\n",
              "    </tr>\n",
              "  </tbody>\n",
              "</table>\n",
              "</div>\n",
              "      <button class=\"colab-df-convert\" onclick=\"convertToInteractive('df-c025f9dd-6401-4292-bc78-daab54f85975')\"\n",
              "              title=\"Convert this dataframe to an interactive table.\"\n",
              "              style=\"display:none;\">\n",
              "        \n",
              "  <svg xmlns=\"http://www.w3.org/2000/svg\" height=\"24px\"viewBox=\"0 0 24 24\"\n",
              "       width=\"24px\">\n",
              "    <path d=\"M0 0h24v24H0V0z\" fill=\"none\"/>\n",
              "    <path d=\"M18.56 5.44l.94 2.06.94-2.06 2.06-.94-2.06-.94-.94-2.06-.94 2.06-2.06.94zm-11 1L8.5 8.5l.94-2.06 2.06-.94-2.06-.94L8.5 2.5l-.94 2.06-2.06.94zm10 10l.94 2.06.94-2.06 2.06-.94-2.06-.94-.94-2.06-.94 2.06-2.06.94z\"/><path d=\"M17.41 7.96l-1.37-1.37c-.4-.4-.92-.59-1.43-.59-.52 0-1.04.2-1.43.59L10.3 9.45l-7.72 7.72c-.78.78-.78 2.05 0 2.83L4 21.41c.39.39.9.59 1.41.59.51 0 1.02-.2 1.41-.59l7.78-7.78 2.81-2.81c.8-.78.8-2.07 0-2.86zM5.41 20L4 18.59l7.72-7.72 1.47 1.35L5.41 20z\"/>\n",
              "  </svg>\n",
              "      </button>\n",
              "      \n",
              "  <style>\n",
              "    .colab-df-container {\n",
              "      display:flex;\n",
              "      flex-wrap:wrap;\n",
              "      gap: 12px;\n",
              "    }\n",
              "\n",
              "    .colab-df-convert {\n",
              "      background-color: #E8F0FE;\n",
              "      border: none;\n",
              "      border-radius: 50%;\n",
              "      cursor: pointer;\n",
              "      display: none;\n",
              "      fill: #1967D2;\n",
              "      height: 32px;\n",
              "      padding: 0 0 0 0;\n",
              "      width: 32px;\n",
              "    }\n",
              "\n",
              "    .colab-df-convert:hover {\n",
              "      background-color: #E2EBFA;\n",
              "      box-shadow: 0px 1px 2px rgba(60, 64, 67, 0.3), 0px 1px 3px 1px rgba(60, 64, 67, 0.15);\n",
              "      fill: #174EA6;\n",
              "    }\n",
              "\n",
              "    [theme=dark] .colab-df-convert {\n",
              "      background-color: #3B4455;\n",
              "      fill: #D2E3FC;\n",
              "    }\n",
              "\n",
              "    [theme=dark] .colab-df-convert:hover {\n",
              "      background-color: #434B5C;\n",
              "      box-shadow: 0px 1px 3px 1px rgba(0, 0, 0, 0.15);\n",
              "      filter: drop-shadow(0px 1px 2px rgba(0, 0, 0, 0.3));\n",
              "      fill: #FFFFFF;\n",
              "    }\n",
              "  </style>\n",
              "\n",
              "      <script>\n",
              "        const buttonEl =\n",
              "          document.querySelector('#df-c025f9dd-6401-4292-bc78-daab54f85975 button.colab-df-convert');\n",
              "        buttonEl.style.display =\n",
              "          google.colab.kernel.accessAllowed ? 'block' : 'none';\n",
              "\n",
              "        async function convertToInteractive(key) {\n",
              "          const element = document.querySelector('#df-c025f9dd-6401-4292-bc78-daab54f85975');\n",
              "          const dataTable =\n",
              "            await google.colab.kernel.invokeFunction('convertToInteractive',\n",
              "                                                     [key], {});\n",
              "          if (!dataTable) return;\n",
              "\n",
              "          const docLinkHtml = 'Like what you see? Visit the ' +\n",
              "            '<a target=\"_blank\" href=https://colab.research.google.com/notebooks/data_table.ipynb>data table notebook</a>'\n",
              "            + ' to learn more about interactive tables.';\n",
              "          element.innerHTML = '';\n",
              "          dataTable['output_type'] = 'display_data';\n",
              "          await google.colab.output.renderOutput(dataTable, element);\n",
              "          const docLink = document.createElement('div');\n",
              "          docLink.innerHTML = docLinkHtml;\n",
              "          element.appendChild(docLink);\n",
              "        }\n",
              "      </script>\n",
              "    </div>\n",
              "  </div>\n",
              "  "
            ],
            "text/plain": [
              "   Jenis_Kelamin  Umur  SIM  ...  Kanal_Penjualan  Lama_Berlangganan  Tertarik\n",
              "0            0.0  30.0  1.0  ...             15.2                9.7       0.0\n",
              "1            1.0  48.0  1.0  ...              2.9               15.8       0.0\n",
              "2            0.0  58.0  1.0  ...             12.4                6.3       0.0\n",
              "3            1.0  21.0  1.0  ...             15.2               17.1       0.0\n",
              "4            0.0  20.0  1.0  ...             16.0                3.1       0.0\n",
              "\n",
              "[5 rows x 11 columns]"
            ]
          },
          "metadata": {},
          "execution_count": 37
        }
      ],
      "source": [
        "dfNew.head()"
      ],
      "id": "cd003367"
    },
    {
      "cell_type": "markdown",
      "metadata": {
        "id": "2ba0e673"
      },
      "source": [
        "### Poin C"
      ],
      "id": "2ba0e673"
    },
    {
      "cell_type": "markdown",
      "metadata": {
        "id": "3b75c182"
      },
      "source": [
        "### Persiapan"
      ],
      "id": "3b75c182"
    },
    {
      "cell_type": "markdown",
      "metadata": {
        "id": "48d83e39"
      },
      "source": [
        "#### Memisahkan data. X merupakan variabel, dan Y merupakan labelnya"
      ],
      "id": "48d83e39"
    },
    {
      "cell_type": "code",
      "execution_count": 38,
      "metadata": {
        "id": "5f597edf"
      },
      "outputs": [],
      "source": [
        "X_train = dfNew.drop('Tertarik', axis = 1)\n",
        "Y_train = dfNew[['Tertarik']]\n",
        "\n",
        "X_test = dfTest.drop('Tertarik', axis = 1)\n",
        "Y_test = dfTest[['Tertarik']]"
      ],
      "id": "5f597edf"
    },
    {
      "cell_type": "code",
      "execution_count": 39,
      "metadata": {
        "id": "39ed341c"
      },
      "outputs": [],
      "source": [
        "X_train = X_train.values\n",
        "Y_train = Y_train.values\n",
        "\n",
        "X_test = X_test.values\n",
        "Y_test = Y_test.values\n",
        "\n",
        "\n",
        "X_train = X_train.T\n",
        "Y_train = Y_train.reshape(1, X_train.shape[1])\n",
        "\n",
        "X_test = X_test.T\n",
        "Y_test = Y_test.reshape(1, X_test.shape[1])\n",
        "\n",
        "Y_train = Y_train.astype(int)"
      ],
      "id": "39ed341c"
    },
    {
      "cell_type": "code",
      "execution_count": 40,
      "metadata": {
        "id": "8494d07c",
        "colab": {
          "base_uri": "https://localhost:8080/"
        },
        "outputId": "3671ae07-1e4d-4a11-d4b0-f6fc0e552fa1"
      },
      "outputs": [
        {
          "output_type": "stream",
          "name": "stdout",
          "text": [
            "(10, 180306)\n",
            "(1, 180306)\n",
            "(10, 47639)\n",
            "(1, 47639)\n"
          ]
        }
      ],
      "source": [
        "print(X_train.shape)\n",
        "print(Y_train.shape)\n",
        "print(X_test.shape)\n",
        "print(Y_test.shape)"
      ],
      "id": "8494d07c"
    },
    {
      "cell_type": "markdown",
      "metadata": {
        "id": "33afe95d"
      },
      "source": [
        "#### Membangun Model"
      ],
      "id": "33afe95d"
    },
    {
      "cell_type": "code",
      "execution_count": 41,
      "metadata": {
        "id": "7c0f0254"
      },
      "outputs": [],
      "source": [
        "def sigmoid(x):\n",
        "    return 1/(1 + np.exp(-x))\n",
        "\n",
        "def model(X, Y, learning_rate, iterations):\n",
        "    \n",
        "    m = X_train.shape[1]\n",
        "    n = X_train.shape[0]\n",
        "    \n",
        "    W = np.zeros((n,1))\n",
        "    B = 0\n",
        "    \n",
        "    cost_list = []\n",
        "    \n",
        "    for i in range(iterations):\n",
        "        \n",
        "        Z = np.dot(W.T, X) + B\n",
        "        A = sigmoid(Z)\n",
        "        \n",
        "        # cost function\n",
        "        cost = -(1/m)*np.sum( Y*np.log(A) + (1-Y)*np.log(1-A))\n",
        "        \n",
        "        # Gradient Descent\n",
        "        dW = (1/m)*np.dot(A-Y, X.T)\n",
        "        dB = (1/m)*np.sum(A - Y)\n",
        "        \n",
        "        W = W - learning_rate*dW.T\n",
        "        B = B - learning_rate*dB\n",
        "        \n",
        "        # Keeping track of our cost function value\n",
        "        cost_list.append(cost)\n",
        "        \n",
        "        if(i%(iterations/10) == 0):\n",
        "            print(\"cost after \", i, \"iteration is : \", cost)\n",
        "            \n",
        "    return W, B, cost_list\n",
        "        "
      ],
      "id": "7c0f0254"
    },
    {
      "cell_type": "code",
      "execution_count": 42,
      "metadata": {
        "id": "bb01f67a",
        "scrolled": true,
        "colab": {
          "base_uri": "https://localhost:8080/"
        },
        "outputId": "321e69b0-ac82-4201-c859-fbd966b2cfef"
      },
      "outputs": [
        {
          "output_type": "stream",
          "name": "stdout",
          "text": [
            "cost after  0 iteration is :  0.6931471805599453\n",
            "cost after  140 iteration is :  0.3769175125649186\n",
            "cost after  280 iteration is :  0.36997073453293\n",
            "cost after  420 iteration is :  0.36693053221951766\n",
            "cost after  560 iteration is :  0.365299826247071\n",
            "cost after  700 iteration is :  0.3642859212310791\n",
            "cost after  840 iteration is :  0.3635688372406442\n",
            "cost after  980 iteration is :  0.36300219512611576\n",
            "cost after  1120 iteration is :  0.36251439838742366\n",
            "cost after  1260 iteration is :  0.36206914718150535\n"
          ]
        }
      ],
      "source": [
        "iterations = 1400\n",
        "learning_rate = 0.0005\n",
        "W, B, cost_list = model(X_train, Y_train, learning_rate = learning_rate, iterations = iterations)"
      ],
      "id": "bb01f67a"
    },
    {
      "cell_type": "markdown",
      "metadata": {
        "id": "1b913e81"
      },
      "source": [
        "### Poin D"
      ],
      "id": "1b913e81"
    },
    {
      "cell_type": "markdown",
      "metadata": {
        "id": "22dc053e"
      },
      "source": [
        "#### Metode evaluasi "
      ],
      "id": "22dc053e"
    },
    {
      "cell_type": "code",
      "execution_count": 43,
      "metadata": {
        "id": "9e74fb94"
      },
      "outputs": [],
      "source": [
        "def accuracy(X, Y, W, B):\n",
        "    Z = np.dot(W.T, X) + B\n",
        "    A = sigmoid(Z)\n",
        "    #A = A > 0.5\n",
        "    #A = np.array(A, dtype = 'int64')\n",
        "    acc = (1 - np.sum(np.absolute(A - Y))/Y.shape[1])*100\n",
        "    print(\"Accuracy of the model is : \", round(acc, 2), \"%\")\n",
        "    return round(acc, 2)"
      ],
      "id": "9e74fb94"
    },
    {
      "cell_type": "code",
      "execution_count": 44,
      "metadata": {
        "id": "ec45b966",
        "colab": {
          "base_uri": "https://localhost:8080/",
          "height": 265
        },
        "outputId": "ee984af8-ce0d-4232-a5ee-67d97452efd7"
      },
      "outputs": [
        {
          "output_type": "display_data",
          "data": {
            "image/png": "[encoded data removed]",
            "text/plain": [
              "<Figure size 432x288 with 1 Axes>"
            ]
          },
          "metadata": {
            "needs_background": "light"
          }
        }
      ],
      "source": [
        "plt.plot(np.arange(iterations), cost_list)\n",
        "plt.show()"
      ],
      "id": "ec45b966"
    },
    {
      "cell_type": "code",
      "execution_count": 45,
      "metadata": {
        "id": "83c48b85",
        "scrolled": true,
        "colab": {
          "base_uri": "https://localhost:8080/"
        },
        "outputId": "0b78c824-ce33-4cef-fa92-9905fabef31c"
      },
      "outputs": [
        {
          "output_type": "stream",
          "name": "stdout",
          "text": [
            "Accuracy of the model is :  78.59 %\n"
          ]
        },
        {
          "output_type": "execute_result",
          "data": {
            "text/plain": [
              "78.59"
            ]
          },
          "metadata": {},
          "execution_count": 45
        }
      ],
      "source": [
        "accuracy(X_test, Y_test, W, B)"
      ],
      "id": "83c48b85"
    },
    {
      "cell_type": "markdown",
      "metadata": {
        "id": "RmqyX_-W1Q08"
      },
      "source": [
        "# Experimen"
      ],
      "id": "RmqyX_-W1Q08"
    },
    {
      "cell_type": "code",
      "execution_count": 24,
      "metadata": {
        "colab": {
          "base_uri": "https://localhost:8080/"
        },
        "id": "9hNna2aM1Q09",
        "outputId": "ea5135df-15f2-4232-dc47-1ffe21382727"
      },
      "outputs": [
        {
          "output_type": "stream",
          "name": "stdout",
          "text": [
            "Jumlah Looping: 3\n",
            "Input Jumlah Perulangan awal yang akan dilakukan pada model: 1000\n",
            "Input Besar Learning Rate awal yang akan digunakan pada model: 0.01\n",
            "\n",
            "Jumlah Iterasi yang digunakan untuk model adalah : 1000\n",
            "Besar Learning Rate yang digunakan untuk model adalah : 0.01\n",
            "cost after  0 iteration is :  0.6931471805599453\n",
            "cost after  100 iteration is :  0.3658309895929556\n",
            "cost after  200 iteration is :  0.6945903180859861\n",
            "cost after  300 iteration is :  0.4147305626840672\n",
            "cost after  400 iteration is :  0.423065575699368\n",
            "cost after  500 iteration is :  0.5295720554763708\n",
            "cost after  600 iteration is :  0.41319101528011853\n",
            "cost after  700 iteration is :  0.6555218000750741\n",
            "cost after  800 iteration is :  0.6523091485474464\n",
            "cost after  900 iteration is :  0.4093224601622041\n",
            "Accuracy of the model is :  86.04 %\n",
            "\n",
            "Jumlah Iterasi yang digunakan untuk model adalah : 3000\n",
            "Besar Learning Rate yang digunakan untuk model adalah : 0.0033333333333333335\n",
            "cost after  0 iteration is :  0.6931471805599453\n",
            "cost after  300 iteration is :  0.35995011101412877\n",
            "cost after  600 iteration is :  0.35473912497003796\n",
            "cost after  900 iteration is :  0.3500342632826715\n",
            "cost after  1200 iteration is :  0.3457691397947652\n",
            "cost after  1500 iteration is :  0.34189184536417866\n",
            "cost after  1800 iteration is :  0.33835897863230946\n",
            "cost after  2100 iteration is :  0.3351332863442246\n",
            "cost after  2400 iteration is :  0.3321822889189126\n",
            "cost after  2700 iteration is :  0.3294774145990739\n",
            "Accuracy of the model is :  79.59 %\n",
            "\n",
            "Jumlah Iterasi yang digunakan untuk model adalah : 9000\n",
            "Besar Learning Rate yang digunakan untuk model adalah : 0.0011111111111111111\n",
            "cost after  0 iteration is :  0.6931471805599453\n",
            "cost after  900 iteration is :  0.3599500918968823\n",
            "cost after  1800 iteration is :  0.35473953674689307\n",
            "cost after  2700 iteration is :  0.35003494859047796\n",
            "cost after  3600 iteration is :  0.34576998411554244\n",
            "cost after  4500 iteration is :  0.3418927822716722\n",
            "cost after  5400 iteration is :  0.3383599673139448\n",
            "cost after  6300 iteration is :  0.3351343002881714\n",
            "cost after  7200 iteration is :  0.3321833100679217\n",
            "cost after  8100 iteration is :  0.32947843022513973\n",
            "Accuracy of the model is :  79.59 %\n"
          ]
        }
      ],
      "source": [
        "akurasi = []\n",
        "iterasi = []\n",
        "l_rate = []\n",
        "div_loop = int(input(\"Jumlah Looping: \")) #Akan digunakan untuk experimen dengan mengalikan/membagi iterasi dan learning rate\n",
        "iterations = int(input(\"Input Jumlah Perulangan awal yang akan dilakukan pada model: \")) #Jumlah iterasi awal yang digunakan oleh model\n",
        "learning_rate = float(input(\"Input Besar Learning Rate awal yang akan digunakan pada model: \")) #Besar learning rate yang digunakan oleh model\n",
        "for i in  range(div_loop):\n",
        "    print(\"\")\n",
        "    print(\"Jumlah Iterasi yang digunakan untuk model adalah : \"+str(iterations))\n",
        "    print(\"Besar Learning Rate yang digunakan untuk model adalah : \"+str(learning_rate))\n",
        "    W, B, cost_list = model(X_train, Y_train, learning_rate = learning_rate, iterations = iterations)\n",
        "    accuracy(X_test, Y_test, W, B)\n",
        "    \n",
        "    iterations = round(iterations*div_loop)\n",
        "    learning_rate = learning_rate/div_loop"
      ],
      "id": "9hNna2aM1Q09"
    },
    {
      "cell_type": "markdown",
      "source": [
        "####Kesimpulan"
      ],
      "metadata": {
        "id": "7YUbsoOt2W_-"
      },
      "id": "7YUbsoOt2W_-"
    },
    {
      "cell_type": "markdown",
      "source": [
        "####Semakin besar iteration memiliki potensi meningkatkan akurasi karena model lebih banyak belajar, akan tetapi ada batas dimana perulangan tidak akan membuat model bertambah pintar. Sementara learning rate adalah kebalikannya, semakin kecil besar learning rate, maka akan membuat model semakin baik, akan tetapi ada batas dimana besar learning rate tidak akan membuat model bertambah pintar walaupun nilanya diperbesar. Learning rate yang memiliki nilai yang terlalu besar akan membuat model tidak dapat belajar dengan baik"
      ],
      "metadata": {
        "id": "elAD1yBa2ZqY"
      },
      "id": "elAD1yBa2ZqY"
    }
  ],
  "metadata": {
    "colab": {
      "collapsed_sections": [],
      "name": "Tahap2_Classification.ipynb",
      "provenance": []
    },
    "kernelspec": {
      "display_name": "Python 3",
      "language": "python",
      "name": "python3"
    },
    "language_info": {
      "codemirror_mode": {
        "name": "ipython",
        "version": 3
      },
      "file_extension": ".py",
      "mimetype": "text/x-python",
      "name": "python",
      "nbconvert_exporter": "python",
      "pygments_lexer": "ipython3",
      "version": "3.8.5"
    }
  },
  "nbformat": 4,
  "nbformat_minor": 5
}